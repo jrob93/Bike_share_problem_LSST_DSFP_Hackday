{
 "cells": [
  {
   "cell_type": "markdown",
   "metadata": {},
   "source": [
    "Here we make a quick script to make an animation for the output of bike grid simulation. Take a directory of image files that are named numerically and combine them using ffmpeg."
   ]
  },
  {
   "cell_type": "code",
   "execution_count": 1,
   "metadata": {
    "collapsed": true
   },
   "outputs": [],
   "source": [
    "import numpy as np\n",
    "import os"
   ]
  },
  {
   "cell_type": "code",
   "execution_count": 15,
   "metadata": {},
   "outputs": [
    {
     "name": "stdout",
     "output_type": "stream",
     "text": [
      "['grid_animation.ipynb', 'README.md']\n",
      "['README.md', 'bike_ani.txt', 'grid_animation.ipynb']\n"
     ]
    }
   ],
   "source": [
    "#load the files from directory\n",
    "dirname= os.getcwd() #define the path to directory where the images are located\n",
    "im_files=next(os.walk('{}'.format(dirname)))[2] #retrieve the files in the run directory\n",
    "print(img_files)\n",
    "\n",
    "#keep only the desired files\n",
    "file_name='bike'\n",
    "file_end='.png'\n",
    "#im_files = [ fi for fi in im_files if fi.endswith(file_end) and fi.startswith(file_name) ] #select only the correct image files\n",
    "im_files.sort() #ensure that the files are always sorted numerically\n",
    "print(im_files)\n",
    "\n",
    "#save files as .txt list\n",
    "ani_inputs=\"{}_ani.txt\".format(file_name)\n",
    "f = open(ani_inputs, 'w')\n",
    "for fi in im_files:\n",
    "    f.write(\"file \\'{}/{}\\'\\n\".format(dirname,fi))\n",
    "f.close()\n"
   ]
  },
  {
   "cell_type": "code",
   "execution_count": 17,
   "metadata": {},
   "outputs": [
    {
     "name": "stdout",
     "output_type": "stream",
     "text": [
      "ffmpeg -r 10 -i bike_ani.txt bike.mp4\n"
     ]
    },
    {
     "data": {
      "text/plain": [
       "0"
      ]
     },
     "execution_count": 17,
     "metadata": {},
     "output_type": "execute_result"
    }
   ],
   "source": [
    "#Feed these files into an ffmpeg script\n",
    "frame_rate=10\n",
    "moviename=file_name+\".mp4\"\n",
    "#ffmpegCmd = 'ffmpeg -r {:d} -i {:s}%07d.png {:s}'.format(frame_rate,file_name,moviename) #reads in all files in current directory\n",
    "ffmpegCmd = 'ffmpeg -r {:d} -i {:s} {:s}'.format(frame_rate,ani_inputs,moviename) #creates movie from file list\n",
    "print(ffmpegCmd)\n",
    "os.system( ffmpegCmd )\n"
   ]
  },
  {
   "cell_type": "code",
   "execution_count": null,
   "metadata": {
    "collapsed": true
   },
   "outputs": [],
   "source": []
  }
 ],
 "metadata": {
  "kernelspec": {
   "display_name": "Python 3",
   "language": "python",
   "name": "python3"
  },
  "language_info": {
   "codemirror_mode": {
    "name": "ipython",
    "version": 3
   },
   "file_extension": ".py",
   "mimetype": "text/x-python",
   "name": "python",
   "nbconvert_exporter": "python",
   "pygments_lexer": "ipython3",
   "version": "3.6.2"
  }
 },
 "nbformat": 4,
 "nbformat_minor": 2
}
